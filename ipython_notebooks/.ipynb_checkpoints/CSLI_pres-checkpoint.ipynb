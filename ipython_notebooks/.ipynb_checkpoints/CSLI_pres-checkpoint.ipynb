{
 "cells": [
  {
   "cell_type": "code",
   "execution_count": 3,
   "metadata": {
    "collapsed": false
   },
   "outputs": [],
   "source": [
    "import pandas as pd\n",
    "import pylab as pyl\n",
    "import nltk as nltk\n",
    "from collections import Counter\n",
    "import numpy as np\n",
    "import matplotlib.pyplot as plt\n",
    "%matplotlib inline"
   ]
  },
  {
   "cell_type": "code",
   "execution_count": null,
   "metadata": {
    "collapsed": true
   },
   "outputs": [],
   "source": []
  },
  {
   "cell_type": "code",
   "execution_count": null,
   "metadata": {
    "collapsed": false,
    "scrolled": true
   },
   "outputs": [],
   "source": [
    "from nltk.tokenize import word_tokenize\n",
    "s = '''Good muffins cost $3.88\\nin New York.  Please buy me two of them.\\n\\nThanks.'''\n",
    "text1 = word_tokenize(s)\n",
    "# len(text1)\n",
    "len(s)\n",
    "\n"
   ]
  },
  {
   "cell_type": "code",
   "execution_count": 18,
   "metadata": {
    "collapsed": false,
    "scrolled": false
   },
   "outputs": [
    {
     "ename": "SyntaxError",
     "evalue": "invalid syntax (<ipython-input-18-c7d88eb7a730>, line 8)",
     "output_type": "error",
     "traceback": [
      "\u001b[0;36m  File \u001b[0;32m\"<ipython-input-18-c7d88eb7a730>\"\u001b[0;36m, line \u001b[0;32m8\u001b[0m\n\u001b[0;31m    merged.lookup([20:], ['roundNum'])\u001b[0m\n\u001b[0m                     ^\u001b[0m\n\u001b[0;31mSyntaxError\u001b[0m\u001b[0;31m:\u001b[0m invalid syntax\n"
     ]
    }
   ],
   "source": [
    "merged = pd.read_csv('/Users/nickimaslan/Desktop/convention_project/tangrams_replication/data/annotated_names/merged.csv')\n",
    "byRound = merged.groupby('roundNum')\n",
    "merged\n"
   ]
  },
  {
   "cell_type": "markdown",
   "metadata": {},
   "source": [
    "#Plotting word frequency distribution "
   ]
  },
  {
   "cell_type": "code",
   "execution_count": null,
   "metadata": {
    "collapsed": true
   },
   "outputs": [],
   "source": []
  },
  {
   "cell_type": "code",
   "execution_count": 17,
   "metadata": {
    "collapsed": false,
    "scrolled": true
   },
   "outputs": [
    {
     "data": {
      "image/png": "[encoded data removed]",
      "text/plain": [
       "<matplotlib.figure.Figure at 0x10b8b0410>"
      ]
     },
     "metadata": {},
     "output_type": "display_data"
    }
   ],
   "source": [
    "merged = pd.read_csv('/Users/nickimaslan/Desktop/convention_project/tangrams_replication/data/annotated_names/merged.csv')\n",
    "merged.drop(['gameid','time'], axis=1)\n",
    "from itertools import chain\n",
    "from nltk.corpus import stopwords\n",
    "stopwords = stopwords.words('english')\n",
    "\n",
    "def tokenize(listOfStrings):\n",
    "    mergedStr = []\n",
    "    for wordStr in listOfStrings :   \n",
    "        potato = nltk.word_tokenize(wordStr)\n",
    "        mergedStr.append(potato)\n",
    "    flat = [item for sublist in mergedStr for item in sublist]\n",
    "    return flat\n",
    "#     return list(chain.from_iterable(mergedStr))\n",
    "\n",
    "def tangram(merged, tangram, roundNum ):   ##select tangram and round you want to look at\n",
    "    merged.drop(['gameid','time'], axis=1)\n",
    "    tanMerged = merged[merged['tangram'] == tangram]\n",
    "    tanRound = tanMerged[tanMerged['roundNum'] == roundNum]\n",
    "    return tanRound\n",
    "\n",
    "def tokTan(dataframe):       ##will tokenize the contents grouped by roundNum\n",
    "    wordsCountedC1 = dataframe.groupby(['roundNum'])['contents'].aggregate(tokenize)\n",
    "    return wordsCountedC1\n",
    "\n",
    "def cleanup(listofStrings):  ##only will do one list at a time\n",
    "    listofStrings = [w for w in listofStrings if w not in stopwords]\n",
    "    listofStrings = [w for w in listofStrings if w.isalpha()]\n",
    "    listofStrings = [w for w in listofStrings if len(w) > 2]\n",
    "    listofStrings = [w.lower() for w in listofStrings if w.isalpha()] \n",
    "    listofStrings = [w for w in listofStrings if w not in ['like', 'either' 'ready', 'yeah' 'really,' 'ok', 'looks', 'okay', 'one', 'got', 'go']]\n",
    "    return listofStrings\n",
    "\n",
    "\n",
    "# merged1 = tangram(merged, 'A', '1')  \n",
    "# # merged1\n",
    "# tA1 = tokTan(merged1)\n",
    "# tA1\n",
    "# tA1clean  = cleanup(tA1[0])\n",
    "# tA1clean\n",
    "\n",
    "##example with tangram C on round1\n",
    "tangramCr1 = tangram(merged, 'C', '1')\n",
    "tokCr1 = tokTan(tangramCr1)\n",
    "cleanCr1 = cleanup(tokCr1[0])\n",
    "cleanCr1\n",
    "\n",
    "# tok = tokenize(tangramCr1)\n",
    "# tok\n",
    "# cleanC = cleanup(tangramCr1)\n",
    "# wordsCountedC1 = merged.groupby(['roundNum'])['contents'].aggregate(tokenize)\n",
    "# cleaned = merged.groupby(['roundNum'])['contents'].aggregate(cleanup)\n",
    "# cleaned\n",
    "\n",
    "\n",
    "\n",
    "\n",
    "##plot the frequency distribution\n",
    "\n",
    "# # len(mynewtext3)\n",
    "# fdist1 = nltk.FreqDist(cleanCr1)\n",
    "# fdist1.plot(30, cumulative=False)\n",
    "\n",
    "wordsCounted = merged.groupby(['roundNum'])['contents'].aggregate(tokenize)\n",
    "cleaned = cleanup(wordsCounted[0])\n",
    "cleaned\n",
    "\n",
    "fdist1 = nltk.FreqDist(cleaned1)\n",
    "fdist1.plot(30, cumulative=False)\n",
    "\n",
    "\n",
    "\n"
   ]
  },
  {
   "cell_type": "markdown",
   "metadata": {},
   "source": [
    "#  Tangram C vs G graph"
   ]
  },
  {
   "cell_type": "code",
   "execution_count": 5,
   "metadata": {
    "collapsed": false,
    "scrolled": true
   },
   "outputs": [
    {
     "name": "stdout",
     "output_type": "stream",
     "text": [
      "[18.0, 12.0, 5.0, 6.0, 4.0, 4.0]\n",
      "[31.0, 13.0, 16.0, 7.0, 5.0, 5.0]\n",
      "[18.0, 12.0, 5.0, 6.0, 4.0, 4.0]\n",
      "[31.0, 13.0, 16.0, 7.0, 5.0, 5.0]\n"
     ]
    },
    {
     "data": {
      "image/png": "[encoded data removed]",
      "text/plain": [
       "<matplotlib.figure.Figure at 0x108df39d0>"
      ]
     },
     "metadata": {},
     "output_type": "display_data"
    }
   ],
   "source": [
    "merged = pd.read_csv('/Users/nickimaslan/Desktop/convention_project/tangrams_replication/data/annotated_names/merged.csv')\n",
    "from itertools import chain\n",
    "from nltk.corpus import stopwords\n",
    "stopwords = stopwords.words('english')\n",
    "\n",
    "def countWords(listOfStrings):\n",
    "    wordCount = 0\n",
    "    for wordStr in listOfStrings :   \n",
    "        potato = nltk.word_tokenize(wordStr) # tokenize it (returns a list of words)\n",
    "        cleanPotato = cleanup(potato)\n",
    "        length = len(potato)   # get length of token list\n",
    "        wordCount = wordCount + length # add that number to wordCount\n",
    "    return wordCount\n",
    "\n",
    "def cleanup(aStr) :\n",
    "    listofStrings = [w for w in aStr if w not in stopwords]\n",
    "    listofStrings = [w for w in listofStrings if w.isalpha()]\n",
    "    listofStrings = [w for w in listofStrings if len(w) > 2]\n",
    "    listofStrings = [w.lower() for w in listofStrings if w.isalpha()] \n",
    "    listofStrings = [w for w in listofStrings if w not in ['like', 'either' 'ready', 'yeah' 'really,' 'ok', 'looks', 'okay', 'one', 'got', 'go']]\n",
    "    return listofStrings\n",
    "\n",
    "tanC = merged[merged['tangram'] == 'C']\n",
    "tanG = merged[merged['tangram'] == 'G']\n",
    "\n",
    "def getMean(dataframe):\n",
    "    meanList = []\n",
    "    for roundNumber in [1,2,3,4,5,6] :\n",
    "        mergeByRound = dataframe[dataframe['roundNum'] == '%d' %roundNumber]\n",
    "        wordsCounted = mergeByRound.groupby(['roundNum'])['contents'].aggregate(countWords)\n",
    "        wordsPerRound = wordsCounted.apply(lambda x: x/(24))\n",
    "        wordMean = wordsPerRound.mean()\n",
    "        meanList.append(wordMean)\n",
    "    return meanList\n",
    "\n",
    "print(getMean(tanC))\n",
    "print(getMean(tanG))\n",
    "# print(tanC)\n",
    "# print(tanG)\n",
    "\n",
    "\n",
    "\n",
    "def getStDev(dataframe):\n",
    "    stdList = []\n",
    "    for roundNumber in [1,2,3,4,5,6] :\n",
    "        mergeByRound = dataframe[dataframe['roundNum'] == '%d' %roundNumber]\n",
    "        wordsCounted = mergeByRound.groupby(['roundNum','gameid'])['contents'].aggregate(countWords)\n",
    "        wordsPerRound = wordsCounted.apply(lambda x: x/(1))\n",
    "        std = wordsPerRound.std()\n",
    "        stdList.append(std)\n",
    "    return stdList\n",
    "\n",
    "\n",
    "\n",
    "##df for tangram C\n",
    "tanC = merged[merged['tangram'] == 'C']\n",
    "wordsCountedC = tanC.groupby(['roundNum','gameid'])['contents'].aggregate(countWords)\n",
    "meanC = getMean(tanC)\n",
    "stErrorC = getStDev(tanC)/np.sqrt(24)\n",
    "print(meanC)\n",
    "\n",
    "%matplotlib inline\n",
    "\n",
    "\n",
    "# ##df for tangram G\n",
    "tanG = merged[merged['tangram'] == 'G']\n",
    "wordsCountedG = tanG.groupby(['roundNum', 'gameid'])['contents'].aggregate(countWords)\n",
    "meanG = getMean(tanG)\n",
    "stErrorG = getStDev(tanG)/np.sqrt(24)\n",
    "stErrorG\n",
    "print(meanG)\n",
    "\n",
    "##plot it\n",
    "##data to be plotted\n",
    "# wordsPerRound = wordsCounted.apply(lambda x: x/(12*24))\n",
    "rounds = [1,2,3,4,5,6]\n",
    "\n",
    "##error data\n",
    "\n",
    "fig = plt.figure(figsize=(10, 10), dpi=100)\n",
    "\n",
    "##plotting\n",
    "# fig = plt.figure(figsize=(6, 6))\n",
    "# axes = fig.add_subplot(111)\n",
    "plt.plot(rounds, meanG, color='red')\n",
    "plt.plot(rounds, meanC, color='blue')\n",
    "# \n",
    "##plot error bars\n",
    "plt.errorbar(rounds,meanG,yerr=stErrorG, linestyle=\"None\", color=\"red\")\n",
    "plt.errorbar(rounds,meanC,yerr=stErrorC, linestyle=\"None\", color=\"blue\")\n",
    "\n",
    "\n",
    "\n",
    "\n",
    "#configure x and y axes\n",
    "plt.ylim([0,40])\n",
    "plt.xlim([0,7])\n",
    "plt.title('Tangram C vs. G words per round', size=15)\n",
    "plt.grid(True)\n",
    "plt.xlabel('Trials', size=14)\n",
    "plt.ylabel('Average amount of words players used', size=14)\n",
    "\n",
    "##save plot\n",
    "plt.savefig(\"/Users/nickimaslan/Desktop/GvsCTangrams.png\", bbox_inches='tight')\n",
    "\n",
    "##show plot\n",
    "plt.show()\n"
   ]
  },
  {
   "cell_type": "markdown",
   "metadata": {},
   "source": [
    "# Avg Director word count for each tangram\n"
   ]
  },
  {
   "cell_type": "code",
   "execution_count": 564,
   "metadata": {
    "collapsed": false
   },
   "outputs": [
    {
     "data": {
      "image/png": "[encoded data removed]",
      "text/plain": [
       "<matplotlib.figure.Figure at 0x10bdd7290>"
      ]
     },
     "metadata": {},
     "output_type": "display_data"
    }
   ],
   "source": [
    "merged = pd.read_csv('/Users/nickimaslan/Desktop/convention_project/tangrams_replication/data/annotated_names/merged.csv')\n",
    "from itertools import chain\n",
    "def countWords(listOfStrings):\n",
    "    wordCount = 0\n",
    "    for wordStr in listOfStrings :   \n",
    "        potato = nltk.word_tokenize(wordStr) # tokenize it (returns a list of words)\n",
    "        length = len(potato)   # get length of token list\n",
    "        wordCount = wordCount + length # add that number to wordCount\n",
    "    return wordCount\n",
    "        \n",
    "# merged.groupby(['tangram'])['roundNum'].apply(plus1)\n",
    "merged = merged[merged['sender'] == 'director']\n",
    "merged = merged[merged['tangram'] != '0']\n",
    "merged = merged[merged['tangram'] != '10']\n",
    "merged = merged[merged['tangram'] != ':']\n",
    "\n",
    "def getStDev(dataframe):\n",
    "    stdList = []\n",
    "    for roundNumber in [1,2,3,4,5,6] :\n",
    "        mergeByRound = merged[merged['roundNum'] == '%d' %roundNumber]\n",
    "        wordsCounted = mergeByRound.groupby(['roundNum','gameid'])['contents'].aggregate(countWords)\n",
    "        wordsPerRound = wordsCounted.apply(lambda x: x/(12))\n",
    "        std = wordsPerRound.std()\n",
    "        stdList.append(std)\n",
    "    return stdList\n",
    "\n",
    "error = np.sqrt(24)\n",
    "\n",
    "%matplotlib inline\n",
    "\n",
    "wordsCounted = merged.groupby(['roundNum'])['contents'].aggregate(countWords)\n",
    "\n",
    "##data to be plotted\n",
    "wordsPerRound = wordsCounted.apply(lambda x: x/(12*24))\n",
    "rounds = [1,2,3,4,5,6]\n",
    "\n",
    "##error data\n",
    "stdErrorList = getStDev(merged)/error\n",
    "\n",
    "fig = plt.figure(figsize=(10, 10), dpi=100)\n",
    "\n",
    "##plotting\n",
    "# fig = plt.figure(figsize=(6, 6))\n",
    "# axes = fig.add_subplot(111)\n",
    "plt.plot(rounds, wordsPerRound)\n",
    "\n",
    "##plot error bars\n",
    "plt.errorbar(rounds,wordsPerRound,yerr=stdList, linestyle=\"None\", color=\"green\")\n",
    "\n",
    "#configure x and y axes\n",
    "plt.ylim([0,20])\n",
    "plt.xlim([0,7])\n",
    "plt.title('Avg director word count for each tangram', size=15)\n",
    "plt.grid(True)\n",
    "plt.xlabel('trials', size=14)\n",
    "plt.ylabel('mean number words (by director) per figure', size=14)\n",
    "\n",
    "##save plot\n",
    "plt.savefig(\"/Users/nickimaslan/Desktop/avgWordsTallFont.png\", bbox_inches='tight')\n",
    "\n",
    "##show plot\n",
    "plt.show()\n"
   ]
  },
  {
   "cell_type": "code",
   "execution_count": 548,
   "metadata": {
    "collapsed": false
   },
   "outputs": [
    {
     "name": "stdout",
     "output_type": "stream",
     "text": [
      "/Users/nickimaslan/Desktop\n"
     ]
    }
   ],
   "source": [
    "cd .."
   ]
  },
  {
   "cell_type": "code",
   "execution_count": 26,
   "metadata": {
    "collapsed": false
   },
   "outputs": [
    {
     "name": "stdout",
     "output_type": "stream",
     "text": [
      "/Users/nickimaslan/Desktop/convention_project/tangrams_replication/data/annotated_names\n"
     ]
    }
   ],
   "source": [
    "cd annotated_names/"
   ]
  },
  {
   "cell_type": "code",
   "execution_count": 6,
   "metadata": {
    "collapsed": false
   },
   "outputs": [
    {
     "ename": "NameError",
     "evalue": "name 'results' is not defined",
     "output_type": "error",
     "traceback": [
      "\u001b[0;31m---------------------------------------------------------------------------\u001b[0m",
      "\u001b[0;31mNameError\u001b[0m                                 Traceback (most recent call last)",
      "\u001b[0;32m<ipython-input-6-856c84b30c62>\u001b[0m in \u001b[0;36m<module>\u001b[0;34m()\u001b[0m\n\u001b[1;32m     12\u001b[0m \u001b[0;31m# contents['contents'].str.lower().str.split().apply(results.update)\u001b[0m\u001b[0;34m\u001b[0m\u001b[0;34m\u001b[0m\u001b[0m\n\u001b[1;32m     13\u001b[0m \u001b[0;31m# print results\u001b[0m\u001b[0;34m\u001b[0m\u001b[0;34m\u001b[0m\u001b[0m\n\u001b[0;32m---> 14\u001b[0;31m \u001b[0mfdist1\u001b[0m \u001b[0;34m=\u001b[0m \u001b[0mnltk\u001b[0m\u001b[0;34m.\u001b[0m\u001b[0mFreqDist\u001b[0m\u001b[0;34m(\u001b[0m\u001b[0mresults\u001b[0m\u001b[0;34m)\u001b[0m\u001b[0;34m\u001b[0m\u001b[0m\n\u001b[0m\u001b[1;32m     15\u001b[0m \u001b[0mfdist1\u001b[0m\u001b[0;34m\u001b[0m\u001b[0m\n\u001b[1;32m     16\u001b[0m \u001b[0;34m\u001b[0m\u001b[0m\n",
      "\u001b[0;31mNameError\u001b[0m: name 'results' is not defined"
     ]
    }
   ],
   "source": [
    "merged = pd.read_csv('/Users/nickimaslan/Desktop/convention_project/tangrams_replication/data/annotated_names/merged.csv')\n",
    "tangram = merged[merged['tangram'] == 'L']  ##select the tangram\n",
    "roundWords = tangram[tangram['roundNum'] == '6']  ##select the round\n",
    "contents = roundWords.ix[0:, ['contents']]\n",
    "# split = contents['contents'].str.lower().str.split()\n",
    "# print split\n",
    "# count = len(split)\n",
    "# print split\n",
    "\n",
    "\n",
    "# results = set()\n",
    "# contents['contents'].str.lower().str.split().apply(results.update)\n",
    "# print results\n",
    "fdist1 = nltk.FreqDist(results)\n",
    "fdist1\n",
    "\n",
    "fdist1.plot(50, cumulative=True)"
   ]
  },
  {
   "cell_type": "code",
   "execution_count": 345,
   "metadata": {
    "collapsed": false,
    "scrolled": true
   },
   "outputs": [
    {
     "data": {
      "text/html": [
       "<div>\n",
       "<table border=\"1\" class=\"dataframe\">\n",
       "  <thead>\n",
       "    <tr style=\"text-align: right;\">\n",
       "      <th></th>\n",
       "      <th>contents</th>\n",
       "    </tr>\n",
       "  </thead>\n",
       "  <tbody>\n",
       "    <tr>\n",
       "      <th>135</th>\n",
       "      <td>1: the yoga dude</td>\n",
       "    </tr>\n",
       "    <tr>\n",
       "      <th>391</th>\n",
       "      <td>7 hippo</td>\n",
       "    </tr>\n",
       "    <tr>\n",
       "      <th>392</th>\n",
       "      <td>k</td>\n",
       "    </tr>\n",
       "    <tr>\n",
       "      <th>567</th>\n",
       "      <td>10 lounging rabbit</td>\n",
       "    </tr>\n",
       "    <tr>\n",
       "      <th>676</th>\n",
       "      <td>10 dancing women</td>\n",
       "    </tr>\n",
       "    <tr>\n",
       "      <th>836</th>\n",
       "      <td>triangle man</td>\n",
       "    </tr>\n",
       "    <tr>\n",
       "      <th>981</th>\n",
       "      <td>mostly rectangle on left and 2 triangle edges ...</td>\n",
       "    </tr>\n",
       "    <tr>\n",
       "      <th>982</th>\n",
       "      <td>4</td>\n",
       "    </tr>\n",
       "    <tr>\n",
       "      <th>1212</th>\n",
       "      <td>slide-n-slide</td>\n",
       "    </tr>\n",
       "    <tr>\n",
       "      <th>1428</th>\n",
       "      <td>6 has large L on the bottom</td>\n",
       "    </tr>\n",
       "    <tr>\n",
       "      <th>1594</th>\n",
       "      <td>backwards L 12</td>\n",
       "    </tr>\n",
       "    <tr>\n",
       "      <th>1795</th>\n",
       "      <td>Demented bunny leaning back on one arm</td>\n",
       "    </tr>\n",
       "    <tr>\n",
       "      <th>1796</th>\n",
       "      <td>11</td>\n",
       "    </tr>\n",
       "    <tr>\n",
       "      <th>1799</th>\n",
       "      <td>Man vomiting in hat</td>\n",
       "    </tr>\n",
       "    <tr>\n",
       "      <th>1800</th>\n",
       "      <td>6</td>\n",
       "    </tr>\n",
       "    <tr>\n",
       "      <th>2032</th>\n",
       "      <td>8 is box falling into ditch</td>\n",
       "    </tr>\n",
       "    <tr>\n",
       "      <th>2033</th>\n",
       "      <td>alrighty</td>\n",
       "    </tr>\n",
       "    <tr>\n",
       "      <th>2177</th>\n",
       "      <td>4. head falling off the left side of the body</td>\n",
       "    </tr>\n",
       "    <tr>\n",
       "      <th>2335</th>\n",
       "      <td>4 was 1 last time, extends to the left</td>\n",
       "    </tr>\n",
       "    <tr>\n",
       "      <th>2496</th>\n",
       "      <td>11. Wide Bottom</td>\n",
       "    </tr>\n",
       "    <tr>\n",
       "      <th>2497</th>\n",
       "      <td>ok</td>\n",
       "    </tr>\n",
       "    <tr>\n",
       "      <th>2573</th>\n",
       "      <td>1 guy dragging something</td>\n",
       "    </tr>\n",
       "    <tr>\n",
       "      <th>2704</th>\n",
       "      <td>#5 neo</td>\n",
       "    </tr>\n",
       "    <tr>\n",
       "      <th>2850</th>\n",
       "      <td>dancer 10</td>\n",
       "    </tr>\n",
       "    <tr>\n",
       "      <th>3047</th>\n",
       "      <td>6 seal</td>\n",
       "    </tr>\n",
       "    <tr>\n",
       "      <th>3143</th>\n",
       "      <td>11: diamond head, stretching</td>\n",
       "    </tr>\n",
       "    <tr>\n",
       "      <th>3288</th>\n",
       "      <td>11 is giraffe</td>\n",
       "    </tr>\n",
       "    <tr>\n",
       "      <th>3552</th>\n",
       "      <td>8: yoga guy?</td>\n",
       "    </tr>\n",
       "    <tr>\n",
       "      <th>3553</th>\n",
       "      <td>8 would be yoga guy</td>\n",
       "    </tr>\n",
       "    <tr>\n",
       "      <th>3671</th>\n",
       "      <td>12 is weird bunny with square ear</td>\n",
       "    </tr>\n",
       "    <tr>\n",
       "      <th>3773</th>\n",
       "      <td>box 10 dancer facing right</td>\n",
       "    </tr>\n",
       "    <tr>\n",
       "      <th>3967</th>\n",
       "      <td>8. Bellbottoms</td>\n",
       "    </tr>\n",
       "  </tbody>\n",
       "</table>\n",
       "</div>"
      ],
      "text/plain": [
       "                                               contents\n",
       "135                                   1: the yoga dude \n",
       "391                                             7 hippo\n",
       "392                                                   k\n",
       "567                                  10 lounging rabbit\n",
       "676                                    10 dancing women\n",
       "836                                        triangle man\n",
       "981   mostly rectangle on left and 2 triangle edges ...\n",
       "982                                                   4\n",
       "1212                                      slide-n-slide\n",
       "1428                        6 has large L on the bottom\n",
       "1594                                     backwards L 12\n",
       "1795             Demented bunny leaning back on one arm\n",
       "1796                                                 11\n",
       "1799                                Man vomiting in hat\n",
       "1800                                                  6\n",
       "2032                        8 is box falling into ditch\n",
       "2033                                           alrighty\n",
       "2177      4. head falling off the left side of the body\n",
       "2335             4 was 1 last time, extends to the left\n",
       "2496                                    11. Wide Bottom\n",
       "2497                                                 ok\n",
       "2573                           1 guy dragging something\n",
       "2704                                             #5 neo\n",
       "2850                                          dancer 10\n",
       "3047                                             6 seal\n",
       "3143                       11: diamond head, stretching\n",
       "3288                                      11 is giraffe\n",
       "3552                                       8: yoga guy?\n",
       "3553                                8 would be yoga guy\n",
       "3671                  12 is weird bunny with square ear\n",
       "3773                         box 10 dancer facing right\n",
       "3967                                     8. Bellbottoms"
      ]
     },
     "execution_count": 345,
     "metadata": {},
     "output_type": "execute_result"
    }
   ],
   "source": [
    "merged = pd.read_csv('/Users/nickimaslan/Desktop/convention_project/tangrams_replication/data/annotated_names/merged.csv')\n",
    "# merged.ix[0:, ['contents', 'tangram']]\n",
    "tangramMerge = merged[merged['tangram'] != '0']\n",
    "tangram = merged[merged['tangram'] == 'G']\n",
    "tangramRound = tangram[tangram['roundNum'] == '6']\n",
    "contents = tangramRound.ix[0:, ['contents']]\n",
    "contents\n",
    "\n"
   ]
  }
 ],
 "metadata": {
  "kernelspec": {
   "display_name": "Python 2",
   "language": "python",
   "name": "python2"
  },
  "language_info": {
   "codemirror_mode": {
    "name": "ipython",
    "version": 2
   },
   "file_extension": ".py",
   "mimetype": "text/x-python",
   "name": "python",
   "nbconvert_exporter": "python",
   "pygments_lexer": "ipython2",
   "version": "2.7.10"
  }
 },
 "nbformat": 4,
 "nbformat_minor": 0
}
